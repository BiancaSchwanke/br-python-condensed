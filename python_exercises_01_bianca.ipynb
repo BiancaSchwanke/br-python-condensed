{
  "nbformat": 4,
  "nbformat_minor": 0,
  "metadata": {
    "colab": {
      "name": "python_exercises_01_bianca.ipynb",
      "provenance": [],
      "include_colab_link": true
    },
    "kernelspec": {
      "name": "python3",
      "display_name": "Python 3"
    }
  },
  "cells": [
    {
      "cell_type": "markdown",
      "metadata": {
        "id": "view-in-github",
        "colab_type": "text"
      },
      "source": [
        "<a href=\"https://colab.research.google.com/github/BiancaSchwanke/br-python-condensed/blob/main/python_exercises_01_bianca.ipynb\" target=\"_parent\"><img src=\"https://colab.research.google.com/assets/colab-badge.svg\" alt=\"Open In Colab\"/></a>"
      ]
    },
    {
      "cell_type": "markdown",
      "metadata": {
        "id": "8YqaSZgXYJ5g"
      },
      "source": [
        "![](https://i.imgur.com/YX6UATs.png)\n"
      ]
    },
    {
      "cell_type": "markdown",
      "metadata": {
        "id": "hhUVzDipaGb9"
      },
      "source": [
        "### **Exercícios de Python - 1** \n",
        "\n",
        "\n",
        "\n"
      ]
    },
    {
      "cell_type": "markdown",
      "metadata": {
        "id": "qMGp-h8OaGqr"
      },
      "source": [
        "1 - Faça um programa, com uma função que necessite de três argumentos, e que forneça a soma desses três argumentos."
      ]
    },
    {
      "cell_type": "code",
      "metadata": {
        "id": "oAGXWD2ByWr5"
      },
      "source": [
        "def periodo_trabalhado (junho, julho, agosto):\n",
        "  tempo_total = junho + julho + agosto\n",
        "  return f\"Olá, o seu período em dias trabalhados é: {tempo_total} \""
      ],
      "execution_count": null,
      "outputs": []
    },
    {
      "cell_type": "code",
      "metadata": {
        "colab": {
          "base_uri": "https://localhost:8080/",
          "height": 35
        },
        "id": "kb4Zi9Hcz0Cz",
        "outputId": "382f728b-d163-4a7f-edce-8fdd34cb07a0"
      },
      "source": [
        "periodo_trabalhado (7, 20, 16)"
      ],
      "execution_count": null,
      "outputs": [
        {
          "output_type": "execute_result",
          "data": {
            "application/vnd.google.colaboratory.intrinsic+json": {
              "type": "string"
            },
            "text/plain": [
              "'Olá, o seu período em dias trabalhados é: 43 '"
            ]
          },
          "metadata": {
            "tags": []
          },
          "execution_count": 2
        }
      ]
    },
    {
      "cell_type": "markdown",
      "metadata": {
        "id": "KdLXZftIaG60"
      },
      "source": [
        "2 - Faça um Programa que peça a temperatura em graus Celsius, transforme e mostre em graus Fahrenheit. \\\n",
        "*Dica: procure a fórmula para essa conversão na internet*"
      ]
    },
    {
      "cell_type": "markdown",
      "metadata": {
        "id": "gNLru0as60j4"
      },
      "source": [
        "°F = °C × 1,8 + 32"
      ]
    },
    {
      "cell_type": "code",
      "metadata": {
        "id": "NVCoDyQ9_Xby"
      },
      "source": [
        "def conversao_graus ():\n",
        "  c = input(\"Adicione os graus Celsius.\")\n",
        "  v = float (c)*1.8\n",
        "  soma = v + 32\n",
        "  return f\"A temperatura em Fahrenheit é {soma}\""
      ],
      "execution_count": null,
      "outputs": []
    },
    {
      "cell_type": "code",
      "metadata": {
        "colab": {
          "base_uri": "https://localhost:8080/",
          "height": 52
        },
        "id": "gIE80b4QAUFr",
        "outputId": "35627149-9ad6-4bbf-f4d3-508b852a3cb5"
      },
      "source": [
        "conversao_graus ()"
      ],
      "execution_count": null,
      "outputs": [
        {
          "output_type": "stream",
          "text": [
            "Adicione os graus Celsius.20\n"
          ],
          "name": "stdout"
        },
        {
          "output_type": "execute_result",
          "data": {
            "application/vnd.google.colaboratory.intrinsic+json": {
              "type": "string"
            },
            "text/plain": [
              "'A temperatura em Fahrenheit é 68.0'"
            ]
          },
          "metadata": {
            "tags": []
          },
          "execution_count": 38
        }
      ]
    },
    {
      "cell_type": "markdown",
      "metadata": {
        "id": "jy-q2JG062C9"
      },
      "source": [
        ""
      ]
    },
    {
      "cell_type": "markdown",
      "metadata": {
        "id": "4OETBVgmaGzX"
      },
      "source": [
        "3 - Faça um Programa que peça um número inteiro e determine se ele é par ou impar. Dica: utilize o operador módulo (resto da divisão)."
      ]
    },
    {
      "cell_type": "code",
      "metadata": {
        "id": "WbzCimFZVSr1"
      },
      "source": [
        "def oper_comparacao ():\n",
        "  numero = int(input(\"Verifique se o número é par ou ímpar:\"))\n",
        "  resultado = numero % 2\n",
        "  if resultado == 0:\n",
        "    print (\"O número {} é par.\".format(numero))\n",
        "  else:\n",
        "    print (\"O número {} é ímpar.\".format(numero))"
      ],
      "execution_count": null,
      "outputs": []
    },
    {
      "cell_type": "code",
      "metadata": {
        "id": "H7AVbaTKVNG2",
        "colab": {
          "base_uri": "https://localhost:8080/"
        },
        "outputId": "10e3e0c5-1c4a-49e1-ef45-f8ab3e80fbe2"
      },
      "source": [
        "oper_comparacao ()"
      ],
      "execution_count": 28,
      "outputs": [
        {
          "output_type": "stream",
          "text": [
            "Verifique se o número é par ou ímpar:56\n",
            "O número 56 é par.\n"
          ],
          "name": "stdout"
        }
      ]
    },
    {
      "cell_type": "markdown",
      "metadata": {
        "id": "7zPJ8sgPaGw0"
      },
      "source": [
        "4 - Faça um programa que peça o tamanho de um arquivo para download (em MB) e a velocidade de um link de Internet (em Mbps), calcule e informe o tempo aproximado de download do arquivo usando este link (em minutos)."
      ]
    },
    {
      "cell_type": "code",
      "metadata": {
        "id": "c9UTTjMA_L2c"
      },
      "source": [
        "def programa ():\n",
        "  t = float (input(\"Adicione o tamanho do arquivo, em MB.\"))\n",
        "  v = float (input(\"Adicione a velocidade de um link de internet, em Mbps.\"))\n",
        "  calculo = t / v\n",
        "  calculo_min = calculo/60\n",
        "  return f\"O tempo aproximado de download é de {calculo_min} minutos.\""
      ],
      "execution_count": 40,
      "outputs": []
    },
    {
      "cell_type": "code",
      "metadata": {
        "colab": {
          "base_uri": "https://localhost:8080/",
          "height": 69
        },
        "id": "uimWnSf4_O_3",
        "outputId": "5d63cc74-bd4c-4574-cd51-02357b4ff5c6"
      },
      "source": [
        "programa ()"
      ],
      "execution_count": 42,
      "outputs": [
        {
          "output_type": "stream",
          "text": [
            "Adicione o tamanho do arquivo, em MB.50\n",
            "Adicione a velocidade de um link de internet, em Mbps.250\n"
          ],
          "name": "stdout"
        },
        {
          "output_type": "execute_result",
          "data": {
            "application/vnd.google.colaboratory.intrinsic+json": {
              "type": "string"
            },
            "text/plain": [
              "'O tempo aproximado de download é de 0.0033333333333333335 minutos.'"
            ]
          },
          "metadata": {
            "tags": []
          },
          "execution_count": 42
        }
      ]
    },
    {
      "cell_type": "markdown",
      "metadata": {
        "id": "0tkhm6EUaG1u"
      },
      "source": [
        "5 - Faça um programa para a leitura de duas notas parciais de um aluno. O programa deve calcular a média alcançada por aluno e apresentar:\n",
        "- A mensagem \"Aprovado\", se a média alcançada for maior ou igual a sete;\n",
        "- A mensagem \"Reprovado\", se a média for menor do que sete;\n",
        "- A mensagem \"Aprovado com Distinção\", se a média for igual a dez."
      ]
    },
    {
      "cell_type": "code",
      "metadata": {
        "id": "990mQ6UhdwKl"
      },
      "source": [
        "def notas ():\n",
        "  i = float (input(\"Insira sua primeira nota.\"))\n",
        "  j = float (input(\"Insira sua segunda nota.\"))\n",
        "  nota_aluno = i+j/2\n",
        "  if nota_aluno == 10:\n",
        "    print (\"Parabéns, você foi aprovado com distinção!\")\n",
        "  elif nota_aluno >= 7:\n",
        "    print (\"Você foi aprovado!\")\n",
        "  else:\n",
        "    print (\"Você foi reprovado.\")"
      ],
      "execution_count": 52,
      "outputs": []
    },
    {
      "cell_type": "code",
      "metadata": {
        "colab": {
          "base_uri": "https://localhost:8080/"
        },
        "id": "c25yPuBkCHjn",
        "outputId": "7176fa5b-2a94-478f-8a3b-cc29294a1329"
      },
      "source": [
        "notas ()"
      ],
      "execution_count": 53,
      "outputs": [
        {
          "output_type": "stream",
          "text": [
            "Insira sua primeira nota.4\n",
            "Insira sua segunda nota.5\n",
            "Você foi reprovado.\n"
          ],
          "name": "stdout"
        }
      ]
    },
    {
      "cell_type": "markdown",
      "metadata": {
        "id": "Lm1tOKThnU42"
      },
      "source": [
        "Exercícios adaptados de Python Brasil"
      ]
    }
  ]
}
{
  "nbformat": 4,
  "nbformat_minor": 0,
  "metadata": {
    "colab": {
      "name": "python_exercises_02_bianca.ipynb",
      "provenance": [],
      "include_colab_link": true
    },
    "kernelspec": {
      "name": "python3",
      "display_name": "Python 3"
    }
  },
  "cells": [
    {
      "cell_type": "markdown",
      "metadata": {
        "id": "view-in-github",
        "colab_type": "text"
      },
      "source": [
        "<a href=\"https://colab.research.google.com/github/BiancaSchwanke/br-python-condensed/blob/main/python_exercises_02_bianca.ipynb\" target=\"_parent\"><img src=\"https://colab.research.google.com/assets/colab-badge.svg\" alt=\"Open In Colab\"/></a>"
      ]
    },
    {
      "cell_type": "markdown",
      "metadata": {
        "id": "8YqaSZgXYJ5g"
      },
      "source": [
        "![](https://i.imgur.com/YX6UATs.png)\n"
      ]
    },
    {
      "cell_type": "markdown",
      "metadata": {
        "id": "hhUVzDipaGb9"
      },
      "source": [
        "### **Exercícios de Python - 2** \n",
        "\n",
        "\n",
        "\n"
      ]
    },
    {
      "cell_type": "markdown",
      "metadata": {
        "id": "c62cM2VlKFqN"
      },
      "source": [
        "1 - Faça um programa que leia um nome de usuário e a sua senha e não aceite a senha igual ao nome do usuário, mostrando uma mensagem de erro."
      ]
    },
    {
      "cell_type": "code",
      "metadata": {
        "id": "A3ajzaOSq69B"
      },
      "source": [
        "def nome_sen ():\n",
        "  nome = input('Insira seu nome:')\n",
        "  senha = input('Insira sua senha:')\n",
        "\n",
        "  if nome == senha:\n",
        "    print('Erro na sua senha, ela tem que ser diferente do seu nome.')\n",
        "  else:\n",
        "    print('Parabéns, você já tem acesso.')\n"
      ],
      "execution_count": null,
      "outputs": []
    },
    {
      "cell_type": "code",
      "metadata": {
        "id": "EwA2oc4sND0l",
        "colab": {
          "base_uri": "https://localhost:8080/"
        },
        "outputId": "9eae8d9d-2379-4599-883a-fc3d268a6848"
      },
      "source": [
        "nome_sen ()\n"
      ],
      "execution_count": null,
      "outputs": [
        {
          "output_type": "stream",
          "text": [
            "Insira seu nome:bianca\n",
            "Insira sua senha:bianca\n",
            "Erro na sua senha, ela tem que ser diferente do seu nome.\n"
          ],
          "name": "stdout"
        }
      ]
    },
    {
      "cell_type": "markdown",
      "metadata": {
        "id": "qMGp-h8OaGqr"
      },
      "source": [
        "2 - Utilizando listas faça um programa que faça 5 perguntas para uma pessoa sobre um crime. As perguntas são:\n",
        "- \"Telefonou para a vítima?\"\n",
        "- \"Esteve no local do crime?\"\n",
        "- \"Mora perto da vítima?\"\n",
        "- \"Devia para a vítima?\"\n",
        "- \"Já trabalhou com a vítima?\" \\\n",
        "O programa deve no final emitir uma classificação sobre a participação da pessoa no crime. Se a pessoa responder positivamente a 2 questões ela deve ser classificada como \"Suspeita\", entre 3 e 4 como \"Cúmplice\" e 5 como \"Assassino\". Caso contrário, ele será classificado como \"Inocente\"."
      ]
    },
    {
      "cell_type": "code",
      "metadata": {
        "id": "kTg-D89NdCld"
      },
      "source": [
        "def quest_crime ():\n",
        "  print('Responda as perguntas do crime com \"sim\" ou \"não\".')\n",
        "\n",
        "  telefone = 0\n",
        "  local = 0\n",
        "  residencia = 0\n",
        "  divida = 0\n",
        "  trabalho = 0\n",
        "\n",
        "  if input('Telefonou para a vítima?') == 'sim':\n",
        "    telefone=1\n",
        "  if input('Esteve no local do crime?') == 'sim':\n",
        "    local=1\n",
        "  if input('Mora perto da vítima?') == 'sim':\n",
        "    residencia=1\n",
        "  if input('Devia para a vítima?') == 'sim':\n",
        "    divida=1\n",
        "  if input('Já trabalhou com a vítima?') == 'sim':\n",
        "    trabalho=1\n",
        "  resultado = telefone+local+residencia+divida+trabalho\n",
        "\n",
        "  if resultado <= 2:\n",
        "    print('Você é suspeito.')\n",
        "  elif resultado == 3:\n",
        "    print('Você é cúmplice.')\n",
        "  elif resultado == 4:\n",
        "    print('Você é cúmplice.')\n",
        "  else:\n",
        "    print('Você é assassino.')"
      ],
      "execution_count": null,
      "outputs": []
    },
    {
      "cell_type": "code",
      "metadata": {
        "id": "b-aDjupSV4rA",
        "colab": {
          "base_uri": "https://localhost:8080/"
        },
        "outputId": "fc19391b-6787-4a07-e600-b1226c72499e"
      },
      "source": [
        "quest_crime ()"
      ],
      "execution_count": null,
      "outputs": [
        {
          "output_type": "stream",
          "text": [
            "Responda as perguntas do crime com \"sim\" ou \"não\".\n",
            "Telefonou para a vítima?sim\n",
            "Esteve no local do crime?nao\n",
            "Mora perto da vítima?sim\n",
            "Devia para a vítima?sim\n",
            "Já trabalhou com a vítima?nao\n",
            "Você é cúmplice.\n"
          ],
          "name": "stdout"
        }
      ]
    },
    {
      "cell_type": "markdown",
      "metadata": {
        "id": "FTK9nE4pdB1D"
      },
      "source": [
        "3 - A lista abaixo possui nomes de alunos de uma classe. Crie um loop que imprima '{nome} é aluno da classe'\n"
      ]
    },
    {
      "cell_type": "code",
      "metadata": {
        "id": "nW4SbDxTmx4t"
      },
      "source": [
        "['Maria','João','Marcelo','Jonas','Laura','Luana']"
      ],
      "execution_count": null,
      "outputs": []
    },
    {
      "cell_type": "code",
      "metadata": {
        "id": "0sRr8MXCpbGP"
      },
      "source": [
        "alunos = ['Maria','João','Marcelo','Jonas','Laura','Luana']"
      ],
      "execution_count": null,
      "outputs": []
    },
    {
      "cell_type": "code",
      "metadata": {
        "id": "arpJLxyybmWl",
        "colab": {
          "base_uri": "https://localhost:8080/"
        },
        "outputId": "ce8eeb1e-e58d-47bd-df20-b08ac2e83752"
      },
      "source": [
        "for i in alunos:\n",
        "  print(f'{i} é aluno da classe.')"
      ],
      "execution_count": null,
      "outputs": [
        {
          "output_type": "stream",
          "text": [
            "Maria é aluno da classe.\n",
            "João é aluno da classe.\n",
            "Marcelo é aluno da classe.\n",
            "Jonas é aluno da classe.\n",
            "Laura é aluno da classe.\n",
            "Luana é aluno da classe.\n"
          ],
          "name": "stdout"
        }
      ]
    },
    {
      "cell_type": "markdown",
      "metadata": {
        "id": "_HbJNv8MaG4g"
      },
      "source": [
        "4 - Utilizando-se da mesma lista trabalhada acima e a lista dada abaixo, que contem as idades dos alunos, realize um loop que faça a iteração com as duas listas printando \"{nome} tem {idade} anos\".\n",
        "Dica: utilize *zip*()"
      ]
    },
    {
      "cell_type": "code",
      "metadata": {
        "id": "LJDxmAbJeO9V"
      },
      "source": [
        "idade = [23,34,42,54,26,27]"
      ],
      "execution_count": null,
      "outputs": []
    },
    {
      "cell_type": "code",
      "metadata": {
        "id": "jWi2fCtCeFCu"
      },
      "source": [
        "alunos = ['Maria','João','Marcelo','Jonas','Laura','Luana']"
      ],
      "execution_count": null,
      "outputs": []
    },
    {
      "cell_type": "code",
      "metadata": {
        "id": "Kq1Lc7Ukps-V",
        "colab": {
          "base_uri": "https://localhost:8080/"
        },
        "outputId": "83c46011-109a-49f8-87ad-135ebdb18aa8"
      },
      "source": [
        "for i,j in zip(alunos,idade):\n",
        "  print(f'{i} tem {j} anos.')"
      ],
      "execution_count": null,
      "outputs": [
        {
          "output_type": "stream",
          "text": [
            "Maria tem 23 anos.\n",
            "João tem 34 anos.\n",
            "Marcelo tem 42 anos.\n",
            "Jonas tem 54 anos.\n",
            "Laura tem 26 anos.\n",
            "Luana tem 27 anos.\n"
          ],
          "name": "stdout"
        }
      ]
    },
    {
      "cell_type": "markdown",
      "metadata": {
        "id": "0tkhm6EUaG1u"
      },
      "source": [
        "5 - Transforme as duas listas anteriores em um dicionário cuja chave é o nome e o valor é a idade."
      ]
    },
    {
      "cell_type": "code",
      "metadata": {
        "id": "MNINJ32eU45M",
        "colab": {
          "base_uri": "https://localhost:8080/"
        },
        "outputId": "4e1c20e2-1c7f-441c-b4b2-38349c08cb3e"
      },
      "source": [
        "dados = {'nome': 'Maria', 'idade':23}\n",
        "{'nome': 'João', 'idade':34}\n",
        "{'nome': 'Marcelo', 'idade':42}\n",
        "{'nome': 'Jonas', 'idade':54}\n",
        "{'nome': 'Laura', 'idade':26}\n",
        "{'nome': 'Luana', 'idade':27}"
      ],
      "execution_count": null,
      "outputs": [
        {
          "output_type": "execute_result",
          "data": {
            "text/plain": [
              "{'idade': 27, 'nome': 'Luana'}"
            ]
          },
          "metadata": {
            "tags": []
          },
          "execution_count": 26
        }
      ]
    },
    {
      "cell_type": "markdown",
      "metadata": {
        "id": "Lm1tOKThnU42"
      },
      "source": [
        "Exercícios adaptados de Python Brasil"
      ]
    }
  ]
}